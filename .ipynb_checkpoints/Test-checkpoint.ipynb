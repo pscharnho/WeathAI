{
 "cells": [
  {
   "cell_type": "code",
   "execution_count": 1,
   "metadata": {},
   "outputs": [],
   "source": [
    "from Data import get_new_data, insert_temps, initialize_db, update_db, get_training_test_data\n",
    "\n",
    "\n",
    "initialize_db('Data/weather_data.db')\n",
    "df = get_training_test_data('Data/weather_data.db', 'magdeburg')#get_new_data()"
   ]
  },
  {
   "cell_type": "code",
   "execution_count": 44,
   "metadata": {},
   "outputs": [
    {
     "name": "stdout",
     "output_type": "stream",
     "text": [
      "549\n"
     ]
    }
   ],
   "source": [
    "import numpy as np\n",
    "print(df['date'].idxmax())#[0:10]\n",
    "collect_max = []\n",
    "collect_min = []\n",
    "targets_max = []\n",
    "targets_min = []\n",
    "for i in range(df['date'].idxmax()-9):\n",
    "    collect_max.append(df['max_temp'][i:i+10].values)\n",
    "    collect_min.append(df['min_temp'][i:i+10].values)\n",
    "    targets_max.append(df['max_temp'][i+10])\n",
    "    targets_min.append(df['min_temp'][i+10])"
   ]
  },
  {
   "cell_type": "code",
   "execution_count": 46,
   "metadata": {},
   "outputs": [
    {
     "name": "stdout",
     "output_type": "stream",
     "text": [
      "True\n"
     ]
    }
   ],
   "source": [
    "print(len(targets_min)==len(collect_min))"
   ]
  },
  {
   "cell_type": "code",
   "execution_count": 3,
   "metadata": {},
   "outputs": [
    {
     "name": "stdout",
     "output_type": "stream",
     "text": [
      "produkt_klima_tag_20171221_20190623_03126.txt\n"
     ]
    }
   ],
   "source": [
    "update_db('Data/weather_data.db', 'magdeburg')"
   ]
  },
  {
   "cell_type": "code",
   "execution_count": 4,
   "metadata": {},
   "outputs": [
    {
     "name": "stdout",
     "output_type": "stream",
     "text": [
      "20171221\n"
     ]
    }
   ],
   "source": [
    "print(df['MESS_DATUM'][0])#<df['MESS_DATUM'][2]"
   ]
  },
  {
   "cell_type": "code",
   "execution_count": 5,
   "metadata": {},
   "outputs": [
    {
     "name": "stdout",
     "output_type": "stream",
     "text": [
      "True\n"
     ]
    }
   ],
   "source": [
    "df_slice = df.loc[df.MESS_DATUM == 20190625].empty\n",
    "print(df_slice)"
   ]
  },
  {
   "cell_type": "code",
   "execution_count": 18,
   "metadata": {},
   "outputs": [
    {
     "name": "stdout",
     "output_type": "stream",
     "text": [
      "20190621 23.8 13.9\n",
      "20190622 26.4 12.7\n",
      "20190623 28.7 15.1\n"
     ]
    }
   ],
   "source": [
    "for index, row in df_slice.iterrows():\n",
    "    print(row['MESS_DATUM'], row['TXK'], row['TNK'])"
   ]
  },
  {
   "cell_type": "code",
   "execution_count": 2,
   "metadata": {},
   "outputs": [],
   "source": [
    "import pandas as pd\n",
    "\n",
    "dat = pd.read_csv(\"Data/md/produkt_klima_tag_20171220_20190622_03126.txt\", sep=';', skipinitialspace=True)"
   ]
  },
  {
   "cell_type": "code",
   "execution_count": 4,
   "metadata": {},
   "outputs": [
    {
     "name": "stdout",
     "output_type": "stream",
     "text": [
      "connection\n",
      "<sqlite3.Connection object at 0x000001513E369570>\n",
      "<sqlite3.Cursor object at 0x000001513E2EDF80>\n"
     ]
    },
    {
     "ename": "OperationalError",
     "evalue": "database is locked",
     "output_type": "error",
     "traceback": [
      "\u001b[1;31m---------------------------------------------------------------------------\u001b[0m",
      "\u001b[1;31mOperationalError\u001b[0m                          Traceback (most recent call last)",
      "\u001b[1;32m<ipython-input-4-04a90612992b>\u001b[0m in \u001b[0;36m<module>\u001b[1;34m()\u001b[0m\n\u001b[1;32m----> 1\u001b[1;33m \u001b[0minsert_temps\u001b[0m\u001b[1;33m(\u001b[0m\u001b[1;34m'Data/weather_data.db'\u001b[0m\u001b[1;33m,\u001b[0m \u001b[1;34m'magdeburg'\u001b[0m\u001b[1;33m,\u001b[0m \u001b[1;34m'2019-06-23'\u001b[0m\u001b[1;33m,\u001b[0m \u001b[1;36m17.0\u001b[0m\u001b[1;33m,\u001b[0m \u001b[1;36m26.0\u001b[0m\u001b[1;33m)\u001b[0m\u001b[1;33m\u001b[0m\u001b[0m\n\u001b[0m",
      "\u001b[1;32m~\\Documents\\GitHub\\WeathAI\\Data.py\u001b[0m in \u001b[0;36minsert_temps\u001b[1;34m(db_file, dbname, date, mintemp, maxtemp)\u001b[0m\n\u001b[0;32m     95\u001b[0m     \u001b[0mc\u001b[0m \u001b[1;33m=\u001b[0m \u001b[0mconn\u001b[0m\u001b[1;33m.\u001b[0m\u001b[0mcursor\u001b[0m\u001b[1;33m(\u001b[0m\u001b[1;33m)\u001b[0m\u001b[1;33m\u001b[0m\u001b[0m\n\u001b[0;32m     96\u001b[0m     \u001b[0mprint\u001b[0m\u001b[1;33m(\u001b[0m\u001b[0mc\u001b[0m\u001b[1;33m)\u001b[0m\u001b[1;33m\u001b[0m\u001b[0m\n\u001b[1;32m---> 97\u001b[1;33m     \u001b[0mc\u001b[0m\u001b[1;33m.\u001b[0m\u001b[0mexecute\u001b[0m\u001b[1;33m(\u001b[0m\u001b[1;34m\" INSERT INTO \"\u001b[0m \u001b[1;33m+\u001b[0m \u001b[0mdbname\u001b[0m \u001b[1;33m+\u001b[0m \u001b[1;34m\"(date, min_temp, max_temp) VALUES(?,?,?) \"\u001b[0m\u001b[1;33m,\u001b[0m \u001b[1;33m(\u001b[0m\u001b[0mdate\u001b[0m\u001b[1;33m,\u001b[0m \u001b[0mmintemp\u001b[0m\u001b[1;33m,\u001b[0m \u001b[0mmaxtemp\u001b[0m\u001b[1;33m)\u001b[0m\u001b[1;33m)\u001b[0m\u001b[1;33m\u001b[0m\u001b[0m\n\u001b[0m\u001b[0;32m     98\u001b[0m     \u001b[0mconn\u001b[0m\u001b[1;33m.\u001b[0m\u001b[0mcommit\u001b[0m\u001b[1;33m(\u001b[0m\u001b[1;33m)\u001b[0m\u001b[1;33m\u001b[0m\u001b[0m\n\u001b[0;32m     99\u001b[0m     \u001b[0mconn\u001b[0m\u001b[1;33m.\u001b[0m\u001b[0mclose\u001b[0m\u001b[1;33m(\u001b[0m\u001b[1;33m)\u001b[0m\u001b[1;33m\u001b[0m\u001b[0m\n",
      "\u001b[1;31mOperationalError\u001b[0m: database is locked"
     ]
    }
   ],
   "source": [
    "insert_temps('Data/weather_data.db', 'magdeburg', '2019-06-23', 17.0, 26.0)"
   ]
  },
  {
   "cell_type": "code",
   "execution_count": null,
   "metadata": {},
   "outputs": [],
   "source": [
    "sqlite3 C:\\Users\\pscha\\Documents\\GitHub\\WeathAI\\Data\\weather_data.db"
   ]
  },
  {
   "cell_type": "code",
   "execution_count": 2,
   "metadata": {},
   "outputs": [
    {
     "data": {
      "text/plain": [
       "Ridge(alpha=1.0, copy_X=True, fit_intercept=True, max_iter=None,\n",
       "   normalize=False, random_state=None, solver='auto', tol=0.001)"
      ]
     },
     "execution_count": 2,
     "metadata": {},
     "output_type": "execute_result"
    }
   ],
   "source": [
    "from sklearn.linear_model import Ridge\n",
    "import numpy as np\n",
    "(X_min, y_min, X_max, y_max) = get_training_test_data('Data/weather_data.db', 'magdeburg')\n",
    "clf_max = Ridge(alpha=1.0)\n",
    "clf_max.fit(X_max, y_max) "
   ]
  },
  {
   "cell_type": "code",
   "execution_count": 4,
   "metadata": {},
   "outputs": [
    {
     "data": {
      "text/plain": [
       "array([10.27946396])"
      ]
     },
     "execution_count": 4,
     "metadata": {},
     "output_type": "execute_result"
    }
   ],
   "source": [
    "clf_max.predict([[12.0,13.3,12.3,14.3,13.7,11.6,11.8,10.8,14.4,10.2]])"
   ]
  },
  {
   "cell_type": "code",
   "execution_count": 8,
   "metadata": {},
   "outputs": [
    {
     "name": "stdout",
     "output_type": "stream",
     "text": [
      "[(20190623, 15.1), (20190622, 12.7), (20190621, 13.9), (20190620, 15.4), (20190619, 17.5), (20190618, 15.9), (20190617, 13.1), (20190616, 13.1), (20190615, 15.6), (20190614, 11.8)]\n",
      "[[11.8, 15.6, 13.1, 13.1, 15.9, 17.5, 15.4, 13.9, 12.7, 15.1]]\n",
      "[(28.7,), (26.4,), (23.8,), (25.9,), (32.5,), (30.2,), (27.6,), (20.8,), (29.5,), (29.4,)]\n"
     ]
    }
   ],
   "source": [
    "import sqlite3\n",
    "city = 'magdeburg'\n",
    "conn = sqlite3.connect('Data/weather_data.db')\n",
    "c = conn.cursor()\n",
    "c.execute(\" SELECT date, min_temp FROM \"+ city +\" ORDER BY date DESC LIMIT 10;\")\n",
    "temps_min = c.fetchall()\n",
    "min_temps = [[a[1] for a in reversed(temps_min)]]\n",
    "c.execute(\" SELECT max_temp FROM \"+ city +\" ORDER BY date DESC LIMIT 10;\")\n",
    "temps_max = c.fetchall()\n",
    "print(temps_min)\n",
    "print(min_temps)\n",
    "print(temps_max)"
   ]
  },
  {
   "cell_type": "code",
   "execution_count": 1,
   "metadata": {},
   "outputs": [
    {
     "name": "stdout",
     "output_type": "stream",
     "text": [
      "[[13.1, 13.1, 15.9, 17.5, 15.4, 13.9, 12.7, 15.1, 15.7, 15.4]]\n",
      "0\n",
      "[15.08623942]\n",
      "1\n",
      "[14.70981679]\n",
      "2\n",
      "[14.42584491]\n"
     ]
    }
   ],
   "source": [
    "from Model import train_model, get_forecast\n",
    "\n",
    "train_model('Data/weather_data.db', 'magdeburg', 'Ridge')#SGDReg\n",
    "(x, t_max, t_min) = get_forecast('magdeburg', 'Ridge', 1234, 1234)"
   ]
  },
  {
   "cell_type": "code",
   "execution_count": 2,
   "metadata": {},
   "outputs": [
    {
     "name": "stdout",
     "output_type": "stream",
     "text": [
      "None\n",
      "[array([32.46708335]), array([31.15020436]), array([30.81557801])]\n"
     ]
    }
   ],
   "source": [
    "a=[1,2,3]\n",
    "print(a.append(4))\n",
    "print(t_max)"
   ]
  }
 ],
 "metadata": {
  "kernelspec": {
   "display_name": "Python 3",
   "language": "python",
   "name": "python3"
  },
  "language_info": {
   "codemirror_mode": {
    "name": "ipython",
    "version": 3
   },
   "file_extension": ".py",
   "mimetype": "text/x-python",
   "name": "python",
   "nbconvert_exporter": "python",
   "pygments_lexer": "ipython3",
   "version": "3.7.0"
  }
 },
 "nbformat": 4,
 "nbformat_minor": 2
}
