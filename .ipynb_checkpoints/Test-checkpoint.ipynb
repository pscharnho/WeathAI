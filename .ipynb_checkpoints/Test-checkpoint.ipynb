{
 "cells": [
  {
   "cell_type": "code",
   "execution_count": 3,
   "metadata": {},
   "outputs": [
    {
     "name": "stdout",
     "output_type": "stream",
     "text": [
      "produkt_klima_tag_20171221_20190623_03126.txt\n"
     ]
    }
   ],
   "source": [
    "from Data import get_new_data, insert_temps, initialize_db, update_db\n",
    "\n",
    "\n",
    "initialize_db('Data/weather_data.db')\n",
    "df = get_new_data()"
   ]
  },
  {
   "cell_type": "code",
   "execution_count": 4,
   "metadata": {},
   "outputs": [
    {
     "name": "stdout",
     "output_type": "stream",
     "text": [
      "produkt_klima_tag_20171221_20190623_03126.txt\n"
     ]
    }
   ],
   "source": [
    "update_db('Data/weather_data.db', 'magdeburg')"
   ]
  },
  {
   "cell_type": "code",
   "execution_count": 4,
   "metadata": {},
   "outputs": [
    {
     "name": "stdout",
     "output_type": "stream",
     "text": [
      "20171221\n"
     ]
    }
   ],
   "source": [
    "print(df['MESS_DATUM'][0])#<df['MESS_DATUM'][2]"
   ]
  },
  {
   "cell_type": "code",
   "execution_count": 5,
   "metadata": {},
   "outputs": [
    {
     "name": "stdout",
     "output_type": "stream",
     "text": [
      "True\n"
     ]
    }
   ],
   "source": [
    "df_slice = df.loc[df.MESS_DATUM == 20190625].empty\n",
    "print(df_slice)"
   ]
  },
  {
   "cell_type": "code",
   "execution_count": 18,
   "metadata": {},
   "outputs": [
    {
     "name": "stdout",
     "output_type": "stream",
     "text": [
      "20190621 23.8 13.9\n",
      "20190622 26.4 12.7\n",
      "20190623 28.7 15.1\n"
     ]
    }
   ],
   "source": [
    "for index, row in df_slice.iterrows():\n",
    "    print(row['MESS_DATUM'], row['TXK'], row['TNK'])"
   ]
  },
  {
   "cell_type": "code",
   "execution_count": 2,
   "metadata": {},
   "outputs": [],
   "source": [
    "import pandas as pd\n",
    "\n",
    "dat = pd.read_csv(\"Data/md/produkt_klima_tag_20171220_20190622_03126.txt\", sep=';', skipinitialspace=True)"
   ]
  },
  {
   "cell_type": "code",
   "execution_count": 4,
   "metadata": {},
   "outputs": [
    {
     "name": "stdout",
     "output_type": "stream",
     "text": [
      "connection\n",
      "<sqlite3.Connection object at 0x000001513E369570>\n",
      "<sqlite3.Cursor object at 0x000001513E2EDF80>\n"
     ]
    },
    {
     "ename": "OperationalError",
     "evalue": "database is locked",
     "output_type": "error",
     "traceback": [
      "\u001b[1;31m---------------------------------------------------------------------------\u001b[0m",
      "\u001b[1;31mOperationalError\u001b[0m                          Traceback (most recent call last)",
      "\u001b[1;32m<ipython-input-4-04a90612992b>\u001b[0m in \u001b[0;36m<module>\u001b[1;34m()\u001b[0m\n\u001b[1;32m----> 1\u001b[1;33m \u001b[0minsert_temps\u001b[0m\u001b[1;33m(\u001b[0m\u001b[1;34m'Data/weather_data.db'\u001b[0m\u001b[1;33m,\u001b[0m \u001b[1;34m'magdeburg'\u001b[0m\u001b[1;33m,\u001b[0m \u001b[1;34m'2019-06-23'\u001b[0m\u001b[1;33m,\u001b[0m \u001b[1;36m17.0\u001b[0m\u001b[1;33m,\u001b[0m \u001b[1;36m26.0\u001b[0m\u001b[1;33m)\u001b[0m\u001b[1;33m\u001b[0m\u001b[0m\n\u001b[0m",
      "\u001b[1;32m~\\Documents\\GitHub\\WeathAI\\Data.py\u001b[0m in \u001b[0;36minsert_temps\u001b[1;34m(db_file, dbname, date, mintemp, maxtemp)\u001b[0m\n\u001b[0;32m     95\u001b[0m     \u001b[0mc\u001b[0m \u001b[1;33m=\u001b[0m \u001b[0mconn\u001b[0m\u001b[1;33m.\u001b[0m\u001b[0mcursor\u001b[0m\u001b[1;33m(\u001b[0m\u001b[1;33m)\u001b[0m\u001b[1;33m\u001b[0m\u001b[0m\n\u001b[0;32m     96\u001b[0m     \u001b[0mprint\u001b[0m\u001b[1;33m(\u001b[0m\u001b[0mc\u001b[0m\u001b[1;33m)\u001b[0m\u001b[1;33m\u001b[0m\u001b[0m\n\u001b[1;32m---> 97\u001b[1;33m     \u001b[0mc\u001b[0m\u001b[1;33m.\u001b[0m\u001b[0mexecute\u001b[0m\u001b[1;33m(\u001b[0m\u001b[1;34m\" INSERT INTO \"\u001b[0m \u001b[1;33m+\u001b[0m \u001b[0mdbname\u001b[0m \u001b[1;33m+\u001b[0m \u001b[1;34m\"(date, min_temp, max_temp) VALUES(?,?,?) \"\u001b[0m\u001b[1;33m,\u001b[0m \u001b[1;33m(\u001b[0m\u001b[0mdate\u001b[0m\u001b[1;33m,\u001b[0m \u001b[0mmintemp\u001b[0m\u001b[1;33m,\u001b[0m \u001b[0mmaxtemp\u001b[0m\u001b[1;33m)\u001b[0m\u001b[1;33m)\u001b[0m\u001b[1;33m\u001b[0m\u001b[0m\n\u001b[0m\u001b[0;32m     98\u001b[0m     \u001b[0mconn\u001b[0m\u001b[1;33m.\u001b[0m\u001b[0mcommit\u001b[0m\u001b[1;33m(\u001b[0m\u001b[1;33m)\u001b[0m\u001b[1;33m\u001b[0m\u001b[0m\n\u001b[0;32m     99\u001b[0m     \u001b[0mconn\u001b[0m\u001b[1;33m.\u001b[0m\u001b[0mclose\u001b[0m\u001b[1;33m(\u001b[0m\u001b[1;33m)\u001b[0m\u001b[1;33m\u001b[0m\u001b[0m\n",
      "\u001b[1;31mOperationalError\u001b[0m: database is locked"
     ]
    }
   ],
   "source": [
    "insert_temps('Data/weather_data.db', 'magdeburg', '2019-06-23', 17.0, 26.0)"
   ]
  },
  {
   "cell_type": "code",
   "execution_count": null,
   "metadata": {},
   "outputs": [],
   "source": [
    "sqlite3 C:\\Users\\pscha\\Documents\\GitHub\\WeathAI\\Data\\weather_data.db"
   ]
  }
 ],
 "metadata": {
  "kernelspec": {
   "display_name": "Python 3",
   "language": "python",
   "name": "python3"
  },
  "language_info": {
   "codemirror_mode": {
    "name": "ipython",
    "version": 3
   },
   "file_extension": ".py",
   "mimetype": "text/x-python",
   "name": "python",
   "nbconvert_exporter": "python",
   "pygments_lexer": "ipython3",
   "version": "3.7.0"
  }
 },
 "nbformat": 4,
 "nbformat_minor": 2
}
