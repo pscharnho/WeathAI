{
 "cells": [
  {
   "cell_type": "code",
   "execution_count": 1,
   "metadata": {},
   "outputs": [],
   "source": [
    "from Data import get_new_data, insert_temps, initialize_db, update_db, get_training_test_data\n",
    "\n",
    "\n",
    "initialize_db('Data/weather_data.db')\n",
    "#df = get_training_test_data('Data/weather_data.db', 'magdeburg')#get_new_data()"
   ]
  },
  {
   "cell_type": "code",
   "execution_count": 44,
   "metadata": {},
   "outputs": [
    {
     "name": "stdout",
     "output_type": "stream",
     "text": [
      "549\n"
     ]
    }
   ],
   "source": [
    "import numpy as np\n",
    "print(df['date'].idxmax())#[0:10]\n",
    "collect_max = []\n",
    "collect_min = []\n",
    "targets_max = []\n",
    "targets_min = []\n",
    "for i in range(df['date'].idxmax()-9):\n",
    "    collect_max.append(df['max_temp'][i:i+10].values)\n",
    "    collect_min.append(df['min_temp'][i:i+10].values)\n",
    "    targets_max.append(df['max_temp'][i+10])\n",
    "    targets_min.append(df['min_temp'][i+10])"
   ]
  },
  {
   "cell_type": "code",
   "execution_count": 46,
   "metadata": {},
   "outputs": [
    {
     "name": "stdout",
     "output_type": "stream",
     "text": [
      "True\n"
     ]
    }
   ],
   "source": [
    "print(len(targets_min)==len(collect_min))"
   ]
  },
  {
   "cell_type": "code",
   "execution_count": 4,
   "metadata": {},
   "outputs": [
    {
     "name": "stdout",
     "output_type": "stream",
     "text": [
      "produkt_klima_tag_20171223_20190625_03126.txt\n"
     ]
    }
   ],
   "source": [
    "update_db('Data/weather_data.db', 'magdeburg')"
   ]
  },
  {
   "cell_type": "code",
   "execution_count": 4,
   "metadata": {},
   "outputs": [
    {
     "name": "stdout",
     "output_type": "stream",
     "text": [
      "20171221\n"
     ]
    }
   ],
   "source": [
    "print(df['MESS_DATUM'][0])#<df['MESS_DATUM'][2]"
   ]
  },
  {
   "cell_type": "code",
   "execution_count": 5,
   "metadata": {},
   "outputs": [
    {
     "name": "stdout",
     "output_type": "stream",
     "text": [
      "True\n"
     ]
    }
   ],
   "source": [
    "df_slice = df.loc[df.MESS_DATUM == 20190625].empty\n",
    "print(df_slice)"
   ]
  },
  {
   "cell_type": "code",
   "execution_count": 18,
   "metadata": {},
   "outputs": [
    {
     "name": "stdout",
     "output_type": "stream",
     "text": [
      "20190621 23.8 13.9\n",
      "20190622 26.4 12.7\n",
      "20190623 28.7 15.1\n"
     ]
    }
   ],
   "source": [
    "for index, row in df_slice.iterrows():\n",
    "    print(row['MESS_DATUM'], row['TXK'], row['TNK'])"
   ]
  },
  {
   "cell_type": "code",
   "execution_count": 2,
   "metadata": {},
   "outputs": [],
   "source": [
    "import pandas as pd\n",
    "\n",
    "dat = pd.read_csv(\"Data/md/produkt_klima_tag_20171220_20190622_03126.txt\", sep=';', skipinitialspace=True)"
   ]
  },
  {
   "cell_type": "code",
   "execution_count": 4,
   "metadata": {},
   "outputs": [
    {
     "name": "stdout",
     "output_type": "stream",
     "text": [
      "connection\n",
      "<sqlite3.Connection object at 0x000001513E369570>\n",
      "<sqlite3.Cursor object at 0x000001513E2EDF80>\n"
     ]
    },
    {
     "ename": "OperationalError",
     "evalue": "database is locked",
     "output_type": "error",
     "traceback": [
      "\u001b[1;31m---------------------------------------------------------------------------\u001b[0m",
      "\u001b[1;31mOperationalError\u001b[0m                          Traceback (most recent call last)",
      "\u001b[1;32m<ipython-input-4-04a90612992b>\u001b[0m in \u001b[0;36m<module>\u001b[1;34m()\u001b[0m\n\u001b[1;32m----> 1\u001b[1;33m \u001b[0minsert_temps\u001b[0m\u001b[1;33m(\u001b[0m\u001b[1;34m'Data/weather_data.db'\u001b[0m\u001b[1;33m,\u001b[0m \u001b[1;34m'magdeburg'\u001b[0m\u001b[1;33m,\u001b[0m \u001b[1;34m'2019-06-23'\u001b[0m\u001b[1;33m,\u001b[0m \u001b[1;36m17.0\u001b[0m\u001b[1;33m,\u001b[0m \u001b[1;36m26.0\u001b[0m\u001b[1;33m)\u001b[0m\u001b[1;33m\u001b[0m\u001b[0m\n\u001b[0m",
      "\u001b[1;32m~\\Documents\\GitHub\\WeathAI\\Data.py\u001b[0m in \u001b[0;36minsert_temps\u001b[1;34m(db_file, dbname, date, mintemp, maxtemp)\u001b[0m\n\u001b[0;32m     95\u001b[0m     \u001b[0mc\u001b[0m \u001b[1;33m=\u001b[0m \u001b[0mconn\u001b[0m\u001b[1;33m.\u001b[0m\u001b[0mcursor\u001b[0m\u001b[1;33m(\u001b[0m\u001b[1;33m)\u001b[0m\u001b[1;33m\u001b[0m\u001b[0m\n\u001b[0;32m     96\u001b[0m     \u001b[0mprint\u001b[0m\u001b[1;33m(\u001b[0m\u001b[0mc\u001b[0m\u001b[1;33m)\u001b[0m\u001b[1;33m\u001b[0m\u001b[0m\n\u001b[1;32m---> 97\u001b[1;33m     \u001b[0mc\u001b[0m\u001b[1;33m.\u001b[0m\u001b[0mexecute\u001b[0m\u001b[1;33m(\u001b[0m\u001b[1;34m\" INSERT INTO \"\u001b[0m \u001b[1;33m+\u001b[0m \u001b[0mdbname\u001b[0m \u001b[1;33m+\u001b[0m \u001b[1;34m\"(date, min_temp, max_temp) VALUES(?,?,?) \"\u001b[0m\u001b[1;33m,\u001b[0m \u001b[1;33m(\u001b[0m\u001b[0mdate\u001b[0m\u001b[1;33m,\u001b[0m \u001b[0mmintemp\u001b[0m\u001b[1;33m,\u001b[0m \u001b[0mmaxtemp\u001b[0m\u001b[1;33m)\u001b[0m\u001b[1;33m)\u001b[0m\u001b[1;33m\u001b[0m\u001b[0m\n\u001b[0m\u001b[0;32m     98\u001b[0m     \u001b[0mconn\u001b[0m\u001b[1;33m.\u001b[0m\u001b[0mcommit\u001b[0m\u001b[1;33m(\u001b[0m\u001b[1;33m)\u001b[0m\u001b[1;33m\u001b[0m\u001b[0m\n\u001b[0;32m     99\u001b[0m     \u001b[0mconn\u001b[0m\u001b[1;33m.\u001b[0m\u001b[0mclose\u001b[0m\u001b[1;33m(\u001b[0m\u001b[1;33m)\u001b[0m\u001b[1;33m\u001b[0m\u001b[0m\n",
      "\u001b[1;31mOperationalError\u001b[0m: database is locked"
     ]
    }
   ],
   "source": [
    "insert_temps('Data/weather_data.db', 'magdeburg', '2019-06-23', 17.0, 26.0)"
   ]
  },
  {
   "cell_type": "code",
   "execution_count": null,
   "metadata": {},
   "outputs": [],
   "source": [
    "sqlite3 C:\\Users\\pscha\\Documents\\GitHub\\WeathAI\\Data\\weather_data.db"
   ]
  },
  {
   "cell_type": "code",
   "execution_count": 2,
   "metadata": {},
   "outputs": [
    {
     "data": {
      "text/plain": [
       "Ridge(alpha=1.0, copy_X=True, fit_intercept=True, max_iter=None,\n",
       "   normalize=False, random_state=None, solver='auto', tol=0.001)"
      ]
     },
     "execution_count": 2,
     "metadata": {},
     "output_type": "execute_result"
    }
   ],
   "source": [
    "from sklearn.linear_model import Ridge\n",
    "import numpy as np\n",
    "(X_min, y_min, X_max, y_max) = get_training_test_data('Data/weather_data.db', 'magdeburg')\n",
    "clf_max = Ridge(alpha=1.0)\n",
    "clf_max.fit(X_max, y_max) "
   ]
  },
  {
   "cell_type": "code",
   "execution_count": 4,
   "metadata": {},
   "outputs": [
    {
     "data": {
      "text/plain": [
       "array([10.27946396])"
      ]
     },
     "execution_count": 4,
     "metadata": {},
     "output_type": "execute_result"
    }
   ],
   "source": [
    "clf_max.predict([[12.0,13.3,12.3,14.3,13.7,11.6,11.8,10.8,14.4,10.2]])"
   ]
  },
  {
   "cell_type": "code",
   "execution_count": 11,
   "metadata": {},
   "outputs": [
    {
     "name": "stdout",
     "output_type": "stream",
     "text": [
      "[(20190703, 14.7), (20190702, 16.3), (20190701, 18.8), (20190630, 15.2), (20190629, 14.8), (20190628, 15.2), (20190627, 19.1), (20190626, 18.2), (20190625, 15.7), (20190624, 16.2)]\n",
      "[[16.2, 15.7, 18.2, 19.1, 15.2, 14.8, 15.2, 18.8, 16.3, 14.7]]\n",
      "[(25.0,), (25.7,), (32.9,), (35.2,), (30.0,), (28.7,), (32.8,), (34.5,), (32.6,), (28.8,)]\n"
     ]
    }
   ],
   "source": [
    "import sqlite3\n",
    "city = 'Muenchen'\n",
    "conn = sqlite3.connect('Data/weather_data.db')\n",
    "c = conn.cursor()\n",
    "c.execute(\" SELECT date, min_temp FROM \"+ city +\" ORDER BY date DESC LIMIT 10;\")\n",
    "temps_min = c.fetchall()\n",
    "min_temps = [[a[1] for a in reversed(temps_min)]]\n",
    "c.execute(\" SELECT max_temp FROM \"+ city +\" ORDER BY date DESC LIMIT 10;\")\n",
    "temps_max = c.fetchall()\n",
    "print(temps_min)\n",
    "print(min_temps)\n",
    "print(temps_max)"
   ]
  },
  {
   "cell_type": "code",
   "execution_count": 1,
   "metadata": {},
   "outputs": [],
   "source": [
    "from Model import train_model, get_forecast\n",
    "cities = ['Muenchen', 'Magdeburg', 'Berlin', 'Hamburg']\n",
    "models = ['Lasso', 'Ridge', 'ElasticNet', 'Bayesian Ridge', 'Neural Net']\n",
    "for city in cities:\n",
    "    for model in models:\n",
    "        train_model('Data/weather_data.db', city, model)#SGDReg\n",
    "#(x, t_max, t_min) = get_forecast('Muenchen', 'Ridge', 1234, 1234)"
   ]
  },
  {
   "cell_type": "code",
   "execution_count": 2,
   "metadata": {},
   "outputs": [
    {
     "name": "stdout",
     "output_type": "stream",
     "text": [
      "['Friday', 'Saturday', 'Sunday'] [26.192464518223463, 27.097637994500946, 27.781378359400083] [14.255572309322996, 14.629331225908565, 14.810989814953263]\n"
     ]
    }
   ],
   "source": [
    "print(x, t_max, t_min)"
   ]
  },
  {
   "cell_type": "code",
   "execution_count": 2,
   "metadata": {},
   "outputs": [
    {
     "name": "stdout",
     "output_type": "stream",
     "text": [
      "None\n",
      "[array([32.46708335]), array([31.15020436]), array([30.81557801])]\n"
     ]
    }
   ],
   "source": [
    "a=[1,2,3]\n",
    "print(a.append(4))\n",
    "print(t_max)"
   ]
  },
  {
   "cell_type": "code",
   "execution_count": 9,
   "metadata": {},
   "outputs": [
    {
     "name": "stdout",
     "output_type": "stream",
     "text": [
      "produkt_klima_tag_20171231_20190703_03379.txt\n"
     ]
    }
   ],
   "source": [
    "import pandas as pd\n",
    "import os\n",
    "for _, _, files in os.walk('Data/Muenchen/'):\n",
    "    for name in files:\n",
    "        if 'produkt_klima_tag' in name:\n",
    "            print(name)\n",
    "dat = pd.read_csv('Data/Muenchen/produkt_klima_tag_20171231_20190703_03379.txt', sep=';', skipinitialspace=True)"
   ]
  },
  {
   "cell_type": "code",
   "execution_count": 10,
   "metadata": {},
   "outputs": [
    {
     "name": "stdout",
     "output_type": "stream",
     "text": [
      "     STATIONS_ID  MESS_DATUM  QN_3    FX   FM  QN_4   RSK  RSKF     SDK  \\\n",
      "0           3379    20171231    10  21.0  6.2     3   0.7     6   6.600   \n",
      "1           3379    20180101    10  18.8  5.0     3   0.1     6   2.067   \n",
      "2           3379    20180102    10  19.3  6.1     3   3.1     8   0.517   \n",
      "3           3379    20180103    10  26.6  6.4     3  16.8     6   0.200   \n",
      "4           3379    20180104    10  21.6  5.6     3  23.4     6   0.000   \n",
      "5           3379    20180105    10  14.5  3.9     3   2.5     6   3.433   \n",
      "6           3379    20180106    10   6.9  1.7     3   0.0     0   6.167   \n",
      "7           3379    20180107    10   8.2  2.6     3   0.0     0   0.000   \n",
      "8           3379    20180108    10   9.9  4.0     3   0.0     0   0.017   \n",
      "9           3379    20180109    10  11.1  3.1     3   0.0     0   3.100   \n",
      "10          3379    20180110    10   4.0  1.5     3   0.0     0   6.600   \n",
      "11          3379    20180111    10   4.2  1.3     3   0.0     6   0.000   \n",
      "12          3379    20180112    10   5.9  2.3     3   0.0     6   2.033   \n",
      "13          3379    20180113    10   8.4  3.2     3   0.0     8   0.000   \n",
      "14          3379    20180114    10   6.9  2.2     3   0.4     8   0.000   \n",
      "15          3379    20180115    10   7.8  2.0     3   0.5     6   4.100   \n",
      "16          3379    20180116    10  23.2  5.7     3   9.2     8   0.633   \n",
      "17          3379    20180117    10  19.9  6.4     3   5.3     8   1.750   \n",
      "18          3379    20180118    10  25.6  8.3     3  10.5     8   3.367   \n",
      "19          3379    20180119    10  16.3  4.5     3   2.5     8   4.200   \n",
      "20          3379    20180120    10  12.5  3.8     3  11.9     8   1.167   \n",
      "21          3379    20180121    10  14.4  4.0     3   5.7     8   1.217   \n",
      "22          3379    20180122    10  11.3  3.0     3  12.7     8   0.000   \n",
      "23          3379    20180123    10   8.3  3.0     3   0.2     6   0.000   \n",
      "24          3379    20180124    10   6.1  2.1     3   0.0     6   6.700   \n",
      "25          3379    20180125    10   5.0  1.8     3   0.0     0   5.433   \n",
      "26          3379    20180126    10   4.4  1.7     3   0.0     0   4.600   \n",
      "27          3379    20180127    10   4.7  1.4     3   0.0     0   0.000   \n",
      "28          3379    20180128    10  11.5  4.1     3   0.0     6   0.033   \n",
      "29          3379    20180129    10  14.5  4.1     3   0.0     6   9.083   \n",
      "..           ...         ...   ...   ...  ...   ...   ...   ...     ...   \n",
      "520         3379    20190604     1   9.3  2.5     1   0.0     0  14.633   \n",
      "521         3379    20190605     1   8.6  2.5     1   0.0     0  14.550   \n",
      "522         3379    20190606     1  13.2  3.6     1   0.0     6   1.850   \n",
      "523         3379    20190607     1  16.0  3.5     1   0.0     0  14.583   \n",
      "524         3379    20190608     1   9.8  3.1     1   0.0     0   7.533   \n",
      "525         3379    20190609     1   9.7  2.7     1   0.5     6   9.933   \n",
      "526         3379    20190610     1  23.0  2.6     1  18.8     8   6.567   \n",
      "527         3379    20190611     1  10.9  3.1     1   0.0     6   3.167   \n",
      "528         3379    20190612     1  14.9  2.9     1   0.0     6   1.783   \n",
      "529         3379    20190613     1   7.2  1.9     1   0.0     0  14.150   \n",
      "530         3379    20190614     1  11.1  3.0     1   0.0     0  11.900   \n",
      "531         3379    20190615     1  20.8  3.4     1   6.7     6   7.817   \n",
      "532         3379    20190616     1   7.9  2.9     1   0.0     6   2.050   \n",
      "533         3379    20190617     1   9.5  3.0     1   0.0     0  13.767   \n",
      "534         3379    20190618     1   9.0  2.0     1   0.0     0  14.117   \n",
      "535         3379    20190619     1  11.1  2.1     1   1.5     6  11.917   \n",
      "536         3379    20190620     1  15.8  2.5     1  18.2     6   2.967   \n",
      "537         3379    20190621     1   6.8  2.1     1   8.4     6   7.567   \n",
      "538         3379    20190622     1  13.7  2.7     1  14.2     6   4.200   \n",
      "539         3379    20190623     1   6.1  2.0     1   0.1     6   4.333   \n",
      "540         3379    20190624     1  10.6  3.6     1   0.0     0  14.883   \n",
      "541         3379    20190625     1   5.2  2.0     1   0.0     0  14.750   \n",
      "542         3379    20190626     1   5.2  1.7     1   0.0     0  14.650   \n",
      "543         3379    20190627     1   9.8  2.9     1   0.0     0  14.200   \n",
      "544         3379    20190628     1   7.3  2.0     1   0.0     0  15.583   \n",
      "545         3379    20190629     1   9.6  2.7     1   0.0     0  15.633   \n",
      "546         3379    20190630     1  11.7  3.0     1   0.0     0  15.250   \n",
      "547         3379    20190701     1  15.9  3.4     1   5.9     8   5.767   \n",
      "548         3379    20190702     1   9.0  2.4     1   0.0     0   7.533   \n",
      "549         3379    20190703     1   6.8  2.1     1   0.0     0  13.467   \n",
      "\n",
      "     SHK_TAG     NM   VPM      PM   TMK    UPM   TXK   TNK   TGK  eor  \n",
      "0          0    5.8   7.9  950.52  10.1  64.71  13.5   3.5   0.3  eor  \n",
      "1          0    6.0   6.1  947.28   6.2  64.67   8.4   3.5  -0.9  eor  \n",
      "2          0    7.4   6.0  951.52   4.4  72.04   7.2   3.0   0.7  eor  \n",
      "3          0    7.6   6.7  942.60   5.4  75.17  14.5   2.9   1.6  eor  \n",
      "4          0    7.7   8.3  941.60   6.8  82.58  11.8   4.1   3.2  eor  \n",
      "5          0    7.6   9.1  942.76   9.7  76.33  12.9   6.9   3.8  eor  \n",
      "6          0    7.2   8.7  946.65   7.0  87.46  11.4   2.9   0.6  eor  \n",
      "7          0    7.8   7.2  955.28   3.1  93.50   6.0   0.5  -0.8  eor  \n",
      "8          0    7.9   7.6  958.38   5.1  86.25   6.5   3.4   3.1  eor  \n",
      "9          0    7.0   6.8  951.82   6.9  70.63  15.2   2.5   0.4  eor  \n",
      "10         0    7.0   6.7  951.20   3.9  84.04   8.9   0.9  -1.8  eor  \n",
      "11         0    8.0   6.5  953.67   2.1  91.33   3.7   0.0  -1.1  eor  \n",
      "12         0    7.4   6.2  961.37   2.8  83.29   4.6   1.5   1.3  eor  \n",
      "13         0    7.9   5.9  960.88   2.1  83.42   3.1   0.2  -0.1  eor  \n",
      "14         0    7.9   5.3  958.69   0.2  85.96   0.9  -1.0  -3.1  eor  \n",
      "15         0    6.5   5.2  954.19   1.9  75.04   7.1  -2.5  -4.0  eor  \n",
      "16         0    7.3   6.7  939.53   5.3  75.96   8.5   1.1   0.2  eor  \n",
      "17         0    7.3   5.5  942.80   1.4  81.63   4.0  -1.2  -2.5  eor  \n",
      "18         2    7.3   6.4  945.03   4.8  75.08   9.0   0.4  -0.7  eor  \n",
      "19         0    7.0   5.9  948.23   3.3  76.63   5.4   0.7  -0.7  eor  \n",
      "20         0    7.7   5.7  945.83   1.7  83.38   4.1   0.3  -0.8  eor  \n",
      "21         0    7.4   5.5  949.91   0.5  85.71   1.8  -1.9  -4.8  eor  \n",
      "22         5    7.8   6.9  950.28   2.5  92.21   6.7  -1.1  -1.7  eor  \n",
      "23         0    7.6   6.9  962.85   4.5  82.38   6.3   2.6  -0.3  eor  \n",
      "24         0    6.8   6.6  961.88   7.0  67.50  14.3   2.5  -0.4  eor  \n",
      "25         0    7.8   6.3  956.05   7.7  61.83  14.4   2.7  -0.7  eor  \n",
      "26         0    8.0   6.5  955.50   4.9  75.63   8.4   1.5  -1.6  eor  \n",
      "27         0    7.9   7.7  967.32   5.2  86.63   6.4   4.1   3.5  eor  \n",
      "28         0    7.0   6.9  971.69   7.7  65.83  10.5   5.6   3.1  eor  \n",
      "29         0    2.9   7.8  967.91   8.1  73.13  13.0   4.6   1.1  eor  \n",
      "..       ...    ...   ...     ...   ...    ...   ...   ...   ...  ...  \n",
      "520     -999    1.1  14.0  952.23  21.9  57.42  29.4  14.4  12.6  eor  \n",
      "521     -999    0.3  13.8  947.10  22.8  52.96  29.7  14.3  12.3  eor  \n",
      "522     -999    6.5  13.3  951.36  17.5  66.46  21.4  12.4  11.5  eor  \n",
      "523     -999    1.5  13.4  952.11  19.8  59.79  28.1  10.6   9.2  eor  \n",
      "524     -999    5.7   8.6  962.38  17.4  44.29  22.3  14.5  12.7  eor  \n",
      "525     -999    5.5  11.4  959.96  19.3  51.96  26.6  10.7   9.3  eor  \n",
      "526     -999    6.3  15.8  952.85  18.2  77.54  26.8  14.7  13.7  eor  \n",
      "527     -999    7.6  16.2  949.61  17.7  80.42  23.3  13.0  12.5  eor  \n",
      "528     -999    7.0  14.6  949.91  16.0  80.42  20.0  12.8  11.5  eor  \n",
      "529     -999    1.9  12.7  954.46  18.5  61.71  24.6  12.1  10.5  eor  \n",
      "530     -999    3.5  16.0  954.34  23.0  59.46  30.8  13.0  11.4  eor  \n",
      "531     -999    5.5  15.8  953.36  22.1  60.58  26.3  14.1  13.8  eor  \n",
      "532     -999 -999.0  14.6  959.96  16.8  77.25  22.2  13.8  12.4  eor  \n",
      "533     -999 -999.0  14.8  958.35  19.7  66.75  26.0  12.3  10.8  eor  \n",
      "534     -999    2.8  14.9  954.74  22.0  59.08  28.9  14.0  12.6  eor  \n",
      "535     -999    3.6  12.8  951.65  23.9  46.08  30.7  17.2  16.4  eor  \n",
      "536     -999    6.5  16.0  953.89  19.1  73.79  25.1  15.0  14.1  eor  \n",
      "537     -999    6.9  16.3  956.95  19.1  75.46  25.3  14.2  12.9  eor  \n",
      "538     -999    7.8  16.9  955.73  18.5  80.79  24.6  14.7  13.8  eor  \n",
      "539     -999    6.3  17.3  957.57  19.1  79.25  23.6  15.5  14.6  eor  \n",
      "540     -999    1.8  17.3  959.76  22.3  66.50  28.8  16.2  14.4  eor  \n",
      "541     -999    3.0  18.3  960.38  24.5  62.46  32.6  15.7  14.0  eor  \n",
      "542     -999    2.1  19.4  962.49  27.0  58.54  34.5  18.2  16.7  eor  \n",
      "543     -999    0.5  19.6  961.52  26.8  56.17  32.8  19.1  16.0  eor  \n",
      "544     -999    0.0  11.4  961.14  22.3  44.00  28.7  15.2  13.0  eor  \n",
      "545     -999    0.0  13.6  959.15  22.9  52.71  30.0  14.8  13.0  eor  \n",
      "546     -999    1.0  14.7  956.78  26.6  46.67  35.2  15.2  13.6  eor  \n",
      "547     -999    6.6  17.4  956.80  24.4  58.04  32.9  18.8  17.3  eor  \n",
      "548     -999    6.2  15.4  958.47  21.3  62.33  25.7  16.3  14.0  eor  \n",
      "549     -999    5.1  11.8  959.40  19.7  52.42  25.0  14.7  12.7  eor  \n",
      "\n",
      "[550 rows x 19 columns]\n"
     ]
    }
   ],
   "source": [
    "print(dat)"
   ]
  }
 ],
 "metadata": {
  "kernelspec": {
   "display_name": "Python 3",
   "language": "python",
   "name": "python3"
  },
  "language_info": {
   "codemirror_mode": {
    "name": "ipython",
    "version": 3
   },
   "file_extension": ".py",
   "mimetype": "text/x-python",
   "name": "python",
   "nbconvert_exporter": "python",
   "pygments_lexer": "ipython3",
   "version": "3.7.0"
  }
 },
 "nbformat": 4,
 "nbformat_minor": 2
}
